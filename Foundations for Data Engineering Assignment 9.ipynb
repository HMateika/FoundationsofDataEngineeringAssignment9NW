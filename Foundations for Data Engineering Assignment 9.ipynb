{
 "cells": [
  {
   "cell_type": "markdown",
   "id": "339b570d",
   "metadata": {},
   "source": [
    "# Dynamic Programming to Determine the Count of Multiple Solutions with 1, 2, and 3 Steps"
   ]
  },
  {
   "cell_type": "markdown",
   "id": "c03fdeb7",
   "metadata": {},
   "source": [
    "## When trying to figure out how to get to cover distances there are multiple approaches that can be taken. For instance to get to a distance of 3, it can be covered in 3 one steps, 1 one step and 1 two step, 1 3 step, and 1 two step and 1 one step. This makes for a total of 4 methods that it can take to cover a distance of 3. Using similar methods to cover a distance of 4, there are a total of 7 methods to get there when limited at most to 3 steps. The number of methods it can be used to cover a certain distance gets more outrageous as time goes on, to the point where it would be nearly impossible to cover by hand. \n",
    "\n",
    "## However, through the use of dynamic programming figuring out how many methods that can be used to cover outrageous distances with only 3 step, 2 step or 1 step intervals is a fairly simple process, below is an instance of using dynamic programming as a solution. "
   ]
  },
  {
   "cell_type": "code",
   "execution_count": 14,
   "id": "2278a434",
   "metadata": {},
   "outputs": [
    {
     "name": "stdout",
     "output_type": "stream",
     "text": [
      "[1, 1, 2, 4, 7, 13, 24, 44, 81, 149, 274]\n"
     ]
    },
    {
     "data": {
      "text/plain": [
       "274"
      ]
     },
     "execution_count": 14,
     "metadata": {},
     "output_type": "execute_result"
    }
   ],
   "source": [
    "def printCountDP(dist):\n",
    "    count = [0] * (dist + 1)\n",
    "    count[0] = 1\n",
    "    if dist >= 1 :\n",
    "        count[1] = 1\n",
    "    if dist >= 2 :\n",
    "        count[2] = 2\n",
    "    for i in range(3, dist + 1):\n",
    "        count[i] = (count[i-1] +\n",
    "                   count[i-2] + count[i-3])\n",
    "    print(count)     \n",
    "    return count[dist];\n",
    "\n",
    "printCountDP(10)"
   ]
  },
  {
   "cell_type": "markdown",
   "id": "882d5671",
   "metadata": {},
   "source": [
    "## This function is a dynamic program since it solves each distance and continues to build off of the previous distance. Here is how the program works.\n",
    "\n",
    "### 1. The program creates an array of zeroes. This array is based off of the distance needed to cover plus 1 (this is to prevent no array being created if the distance is 0).\n",
    "\n",
    "### 2. The program sets the first array position to 1. If the distance is equal or greater than 1 then it sets the second position to 1. If the distance is greater than or equal to 2 it sets the 3rd position equal to 2.\n",
    "\n",
    "### 3. From there a for loop is created out of a range from 3 to the distance plus 1 (to make sure that final distance number is covered), each position is therefore set equal to the count of the previous step plus the count of the step before the previous plus the step before the step before the prevous set.\n",
    "\n",
    "### 4. What is return is the value in the position of where the distance is."
   ]
  },
  {
   "cell_type": "markdown",
   "id": "7570e6cc",
   "metadata": {},
   "source": [
    "## The function is a dynamic program since it breaks down each distance and uses that distance as a substep to getting to the final solution. For instance, when performing the function with the distance 10 there are 274 methods received. This is based off of adding the subset values 44, 81, and 149 (and even these are based off of solutions from previous steps). This dynamic programming solution basically allows for further build up over time."
   ]
  },
  {
   "cell_type": "markdown",
   "id": "1868704d",
   "metadata": {},
   "source": [
    "## This dynamic programming has a Big O notation of O(n) meaning that the program will increase at a fairly linear rate. As the size of the distance increases the time it will take to complete this program will increase as well. It is important for every data engineer to utilize dynamic programming since it is capable of taking breaking down problems into subsets of solution. This, at times, will allow it to run at a faster rate. It is also important to find a dynamic programming solution that is optimal for Big O notation. There is a solution to this form that would have had a Big O notation of O(3^n) which is a far slower rate in comparison to the above problem implemented."
   ]
  },
  {
   "cell_type": "code",
   "execution_count": null,
   "id": "7a991a5d",
   "metadata": {},
   "outputs": [],
   "source": []
  }
 ],
 "metadata": {
  "kernelspec": {
   "display_name": "Python 3 (ipykernel)",
   "language": "python",
   "name": "python3"
  },
  "language_info": {
   "codemirror_mode": {
    "name": "ipython",
    "version": 3
   },
   "file_extension": ".py",
   "mimetype": "text/x-python",
   "name": "python",
   "nbconvert_exporter": "python",
   "pygments_lexer": "ipython3",
   "version": "3.8.5"
  }
 },
 "nbformat": 4,
 "nbformat_minor": 5
}
